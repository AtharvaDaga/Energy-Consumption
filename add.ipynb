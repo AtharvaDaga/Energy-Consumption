{
 "cells": [
  {
   "cell_type": "markdown",
   "metadata": {},
   "source": [
    "Making the dataset as required for project"
   ]
  },
  {
   "cell_type": "code",
   "execution_count": 1,
   "metadata": {},
   "outputs": [
    {
     "name": "stdout",
     "output_type": "stream",
     "text": [
      "Modified file saved as dataset.xlsx\n"
     ]
    }
   ],
   "source": [
    "import pandas as pd\n",
    "\n",
    "# Load the Excel file (change 'your_file.xlsx' to your actual file name)\n",
    "file_path = \"F:/PROJECTS/Sem - 8/ML/P1/test_energy_data.csv\"  # Update with your actual file path\n",
    "df = pd.read_csv(file_path)\n",
    "\n",
    "# Function to categorize the day based on Energy Consumption\n",
    "def categorize_day(energy):\n",
    "    if energy < 3000:\n",
    "        return 'Mild Day'\n",
    "    elif 3000 <= energy <= 5000:\n",
    "        return 'Moderate Day'\n",
    "    else:\n",
    "        return 'Hot Day'\n",
    "\n",
    "# Apply the function and create a new column 'Day'\n",
    "df['Heat Levels'] = df['Energy Consumption'].apply(categorize_day)\n",
    "\n",
    "# Save the modified DataFrame back to a new Excel file\n",
    "output_file = \"dataset.xlsx\"  # Change the file name if needed\n",
    "df.to_excel(output_file, index=False)\n",
    "\n",
    "print(f\"Modified file saved as {output_file}\")\n"
   ]
  },
  {
   "cell_type": "markdown",
   "metadata": {},
   "source": [
    "One Hot Encoding "
   ]
  },
  {
   "cell_type": "code",
   "execution_count": 7,
   "metadata": {},
   "outputs": [
    {
     "name": "stdout",
     "output_type": "stream",
     "text": [
      "Categorical values converted and saved as cleaned_final_dataset.xlsx\n"
     ]
    }
   ],
   "source": [
    "import pandas as pd\n",
    "\n",
    "#  Load the Original Dataset\n",
    "file_path = \"final_dataset.xlsx\"  # Update with your actual file path\n",
    "df = pd.read_excel(file_path)\n",
    "\n",
    "#  Encode Categorical Columns Manually\n",
    "building_type_mapping = {\"Residential\": 1, \"Commercial\": 2, \"Industrial\": 3}\n",
    "day_of_week_mapping = {\"Weekday\": 1, \"Weekend\": 2}\n",
    "heat_levels_mapping = {\"Mild Day\": 1, \"Moderate Day\": 2, \"Hot Day\": 3}\n",
    "\n",
    "df[\"Building Type\"] = df[\"Building Type\"].map(building_type_mapping)\n",
    "df[\"Day of Week\"] = df[\"Day of Week\"].map(day_of_week_mapping)\n",
    "df[\"Heat Levels\"] = df[\"Heat Levels\"].map(heat_levels_mapping)\n",
    "\n",
    "#  Save the New CSV File\n",
    "csv_output_file = \"cleaned_final_dataset.xlsx\"\n",
    "df.to_excel(csv_output_file, index=False)\n",
    "\n",
    "print(f\"Categorical values converted and saved as {csv_output_file}\")\n"
   ]
  },
  {
   "cell_type": "markdown",
   "metadata": {},
   "source": [
    "Multiple Linear Regression Model Training"
   ]
  },
  {
   "cell_type": "code",
   "execution_count": 6,
   "metadata": {},
   "outputs": [
    {
     "name": "stdout",
     "output_type": "stream",
     "text": [
      "📊 Improved Model Performance:\n",
      "MAE: 376.20\n",
      "MSE: 207671.58\n",
      "RMSE: 455.71\n",
      "✅ Model trained and saved successfully with Best Features!\n"
     ]
    }
   ],
   "source": [
    "import pandas as pd\n",
    "import numpy as np\n",
    "import joblib\n",
    "from sklearn.model_selection import train_test_split\n",
    "from sklearn.preprocessing import StandardScaler\n",
    "from sklearn.linear_model import LinearRegression\n",
    "from sklearn.metrics import mean_absolute_error, mean_squared_error\n",
    "\n",
    "#  Load the Cleaned Dataset\n",
    "df = pd.read_excel(\"cleaned_dataset.xlsx\")  \n",
    "\n",
    "#  Keep Only the Important Features\n",
    "X = df[['Square Footage', 'Heat Levels']]  # Best Features\n",
    "y = df['Energy Consumption']  \n",
    "\n",
    "#  Train-Test Split (80% Training, 20% Testing)\n",
    "X_train, X_test, y_train, y_test = train_test_split(X, y, test_size=0.2, random_state=42)\n",
    "\n",
    "#  Apply Feature Scaling\n",
    "scaler = StandardScaler()\n",
    "X_train_scaled = scaler.fit_transform(X_train)\n",
    "X_test_scaled = scaler.transform(X_test)\n",
    "\n",
    "#  Train the Multiple Linear Regression Model\n",
    "model = LinearRegression()\n",
    "model.fit(X_train_scaled, y_train)\n",
    "\n",
    "#  Evaluate Model\n",
    "y_pred = model.predict(X_test_scaled)\n",
    "mae = mean_absolute_error(y_test, y_pred)\n",
    "mse = mean_squared_error(y_test, y_pred)\n",
    "rmse = np.sqrt(mse)\n",
    "\n",
    "print(f\"📊 Improved Model Performance:\\nMAE: {mae:.2f}\\nMSE: {mse:.2f}\\nRMSE: {rmse:.2f}\")\n",
    "\n",
    "#  Save Model, Scaler & Feature Names\n",
    "joblib.dump(model, \"energy_model.pkl\")\n",
    "joblib.dump(scaler, \"scaler.pkl\")  \n",
    "joblib.dump(X.columns.tolist(), \"columns.pkl\")\n",
    "\n",
    "print(\"✅ Model trained and saved successfully with Best Features!\")\n"
   ]
  }
 ],
 "metadata": {
  "kernelspec": {
   "display_name": "Python 3",
   "language": "python",
   "name": "python3"
  },
  "language_info": {
   "codemirror_mode": {
    "name": "ipython",
    "version": 3
   },
   "file_extension": ".py",
   "mimetype": "text/x-python",
   "name": "python",
   "nbconvert_exporter": "python",
   "pygments_lexer": "ipython3",
   "version": "3.10.6"
  }
 },
 "nbformat": 4,
 "nbformat_minor": 2
}
